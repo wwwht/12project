{
 "cells": [
  {
   "cell_type": "markdown",
   "metadata": {},
   "source": [
    "# Programming"
   ]
  },
  {
   "cell_type": "code",
   "execution_count": 2,
   "metadata": {},
   "outputs": [
    {
     "name": "stdout",
     "output_type": "stream",
     "text": [
      "{'orderId': '20230424162207933', 'imagingMode': 'LPB', 'demandName': '20230424162207933', 'imagingWkt': 'POINT(129.294,35.32059999999999)', 'startTime': '2023-04-25 00:00:00', 'endTime': '2023-04-25 23:59:59', 'maxCloud': '50', 'maxRoll': '45', 'resolution': '5.0', 'processingMethod': 'L1,L2C', 'isClipping': 'false', 'workPattern': '20', 'contract': '资源-包1-常规编程-X元'}\n"
     ]
    }
   ],
   "source": [
    "import xml.etree.ElementTree as ET\n",
    "\n",
    "tree = ET.parse('./example_xml/PROGRAMING/ZY_w_PROGRAMING_100232424.xml')\n",
    "root = tree.getroot()\n",
    "\n",
    "data = {} \n",
    "\n",
    "for programing in root:\n",
    "    data['orderId'] = programing.find('orderId').text\n",
    "    data['imagingMode'] = programing.find('imagingMode').text\n",
    "    data['demandName'] = programing.find('demandName').text\n",
    "    data['imagingWkt'] = programing.find('imagingWkt').text\n",
    "    data['startTime'] = programing.find('startTime').text\n",
    "    data['endTime'] = programing.find('endTime').text\n",
    "    data['maxCloud'] = programing.find('maxCloud').text\n",
    "    data['maxRoll'] = programing.find('maxRoll').text\n",
    "    data['resolution'] = programing.find('resolution').text\n",
    "    data['processingMethod'] = programing.find('processingMethod').text\n",
    "    data['isClipping'] = programing.find('isClipping').text\n",
    "    data['workPattern'] = programing.find('workPattern').text\n",
    "    data['contract'] = programing.find('contract').text\n",
    "    \n",
    "print(data)"
   ]
  },
  {
   "attachments": {},
   "cell_type": "markdown",
   "metadata": {},
   "source": [
    "# Acceptance"
   ]
  },
  {
   "cell_type": "code",
   "execution_count": 4,
   "metadata": {},
   "outputs": [
    {
     "name": "stdout",
     "output_type": "stream",
     "text": [
      "<acceptance><feedbackType>ACCEPTANCE</feedbackType><message>SUCCESS</message><orderId>20230424162207933</orderId><orderIdWX>xxxxxxxxxx</orderIdWX></acceptance>\n"
     ]
    }
   ],
   "source": [
    "data = {\n",
    "    'feedbackType': 'ACCEPTANCE',\n",
    "    'message': 'SUCCESS',\n",
    "    'orderId': '20230424162207933',\n",
    "    'orderIdWX': 'xxxxxxxxxx' \n",
    "}\n",
    "\n",
    "root = ET.Element('acceptance') \n",
    "\n",
    "for key, value in data.items():\n",
    "    ele = ET.Element(key)\n",
    "    ele.text = value\n",
    "    root.append(ele)\n",
    "\n",
    "xml_str = ET.tostring(root, encoding='unicode')\n",
    "print(xml_str)"
   ]
  },
  {
   "cell_type": "code",
   "execution_count": null,
   "metadata": {},
   "outputs": [],
   "source": []
  }
 ],
 "metadata": {
  "kernelspec": {
   "display_name": "12project",
   "language": "python",
   "name": "python3"
  },
  "language_info": {
   "codemirror_mode": {
    "name": "ipython",
    "version": 3
   },
   "file_extension": ".py",
   "mimetype": "text/x-python",
   "name": "python",
   "nbconvert_exporter": "python",
   "pygments_lexer": "ipython3",
   "version": "3.8.16"
  },
  "orig_nbformat": 4
 },
 "nbformat": 4,
 "nbformat_minor": 2
}
